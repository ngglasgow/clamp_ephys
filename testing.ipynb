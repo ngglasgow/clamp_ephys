{
 "cells": [
  {
   "cell_type": "markdown",
   "metadata": {},
   "source": [
    "# Using the physiplot Explorer\n",
    "The explorer allows sweep exploration and saving sweeps to drop all within the browser.\n",
    "- For ease, click the double-forward-arrow icon on top toolbar to run all the cells in this notebook and display the explorer. \n",
    "- You must have bokeh installed: `conda install bokeh`\n",
    "- You must have ipyfilechooser installed: `pip install ipyfilechooser`\n",
    "- To work in jupyter lab please follow guide here: https://docs.bokeh.org/en/latest/docs/user_guide/jupyter.html\n",
    "- **NOTE**: only jupyter notebook and jupyter lab are supported"
   ]
  },
  {
   "cell_type": "code",
   "execution_count": 3,
   "metadata": {},
   "outputs": [],
   "source": [
    "import physiplot"
   ]
  },
  {
   "cell_type": "markdown",
   "metadata": {},
   "source": [
    "### Explorer General Use\n",
    "1. Select a Data Notes file under Select Data Notes\n",
    "2. Select a Data file of your cell of interest.\n",
    "3. Make sure the metadata are all set correctly before clicking `Open Cell`. If you need to make changes to the metadata, you'll need click `Open Cell` again. \n",
    "4. Click `Open Cell`. The plot of your trace open to the current slider value will open.\n",
    "5. The tools pan, wheel_zoom, and crosshair are active by default. You can toggle them on/off with the toolbar on the top of the plot.\n",
    "    - pan: click and drag\n",
    "    - zoom: scroll wheel; if anywhere on plot, will zoom x and y axes; if on x-axis OR y-axis when scroll, will only scroll that axis.\n",
    "    - crosshair: pretty obvious\n",
    "    - reset: click to reset to original view\n",
    "6. You can control the sweep displayed with the slider or the left right arrows. \n",
    "7. There is a `drop_list` created when you open the cell which begins as an empty list. Add the displayed sweep the the `drop_list` by clicking `Drop`. If this was a mistake, remove the displayed sweep from `drop_list` by clikcing `undrop`. \n",
    "8. Save `drop_list` to file by clicking the save icon. The saving will be done automatically, and `drop_list` can be read in automatically with code by setting the arg `dropped_sweeps=True` in workflows.cell(). You **MUST** save the `drop_list` before opening a new cell. `drop_list` is always cleared between openings.\n",
    "    - NOTE: the save function will automatically overwrite whatever previously saved dropped sweeps you have for that file. This is useful if you want to redo your drop criteria. This is harmful in the case where you did not want to overwrite your data. Use carefully. "
   ]
  },
  {
   "cell_type": "code",
   "execution_count": 5,
   "metadata": {},
   "outputs": [
    {
     "output_type": "display_data",
     "data": {
      "text/plain": "VBox(children=(HBox(children=(VBox(children=(FileChooser(path='/home/nate', filename='', show_hidden='False'),…",
      "application/vnd.jupyter.widget-view+json": {
       "version_major": 2,
       "version_minor": 0,
       "model_id": "c9100889d21046cca366b9ef75218c9c"
      }
     },
     "metadata": {}
    }
   ],
   "source": [
    "explorer = physiplot.Explorer()\n",
    "explorer.launch()"
   ]
  }
 ],
 "metadata": {
  "kernelspec": {
   "display_name": "lab",
   "language": "python",
   "name": "lab"
  },
  "language_info": {
   "codemirror_mode": {
    "name": "ipython",
    "version": 3
   },
   "file_extension": ".py",
   "mimetype": "text/x-python",
   "name": "python",
   "nbconvert_exporter": "python",
   "pygments_lexer": "ipython3",
   "version": "3.7.6-final"
  }
 },
 "nbformat": 4,
 "nbformat_minor": 4
}